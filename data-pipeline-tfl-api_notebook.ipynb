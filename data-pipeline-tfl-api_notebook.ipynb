{
 "cells": [
  {
   "cell_type": "markdown",
   "metadata": {},
   "source": [
    "<img width=\"200\" style=\"float:left\" \n",
    "     src=\"https://upload.wikimedia.org/wikipedia/commons/f/f3/Apache_Spark_logo.svg\" />"
   ]
  },
  {
   "cell_type": "markdown",
   "metadata": {},
   "source": [
    "# **Group 7** - *Modern Data Architectures for Big Data*"
   ]
  },
  {
   "cell_type": "markdown",
   "metadata": {},
   "source": [
    "<a id='1'></a>\n",
    "## 1. Setup\n",
    "\n",
    "Since we are going to process data stored from HDFS let's start the service"
   ]
  },
  {
   "cell_type": "markdown",
   "metadata": {},
   "source": [
    "<a id='1.1'></a>\n",
    "### 1.1 Start Hadoop\n",
    "\n",
    "Start Hadoop\n",
    "\n",
    "Open a terminal and execute\n",
    "```sh\n",
    "hadoop-start.sh\n",
    "```"
   ]
  },
  {
   "cell_type": "markdown",
   "metadata": {},
   "source": [
    "<a id='1.2'></a>\n",
    "### 1.2 Search for Spark Installation "
   ]
  },
  {
   "cell_type": "code",
   "execution_count": 1,
   "metadata": {},
   "outputs": [],
   "source": [
    "import findspark\n",
    "findspark.init()"
   ]
  },
  {
   "cell_type": "markdown",
   "metadata": {},
   "source": [
    "Pandas setup to display contents in a better way:"
   ]
  },
  {
   "cell_type": "code",
   "execution_count": 2,
   "metadata": {},
   "outputs": [],
   "source": [
    "import pandas as pd\n",
    "pd.set_option('display.max_colwidth', None)"
   ]
  },
  {
   "cell_type": "markdown",
   "metadata": {},
   "source": [
    "<a id='1.3'></a>\n",
    "### 1.3 Create SparkSession\n",
    "It's a good practice to give the Spark job a name and, before doing the actual data analysis, check the Spark version you're running to be sure that all the functions you'll use will be available and will behave as you expect."
   ]
  },
  {
   "cell_type": "code",
   "execution_count": 3,
   "metadata": {},
   "outputs": [
    {
     "name": "stderr",
     "output_type": "stream",
     "text": [
      "WARNING: An illegal reflective access operation has occurred\n",
      "WARNING: Illegal reflective access by org.apache.spark.unsafe.Platform (file:/opt/spark3/jars/spark-unsafe_2.12-3.2.1.jar) to constructor java.nio.DirectByteBuffer(long,int)\n",
      "WARNING: Please consider reporting this to the maintainers of org.apache.spark.unsafe.Platform\n",
      "WARNING: Use --illegal-access=warn to enable warnings of further illegal reflective access operations\n",
      "WARNING: All illegal access operations will be denied in a future release\n",
      "Setting default log level to \"WARN\".\n",
      "To adjust logging level use sc.setLogLevel(newLevel). For SparkR, use setLogLevel(newLevel).\n"
     ]
    },
    {
     "name": "stdout",
     "output_type": "stream",
     "text": [
      "This cluster relies on Spark '3.2.1'\n"
     ]
    }
   ],
   "source": [
    "from pyspark.sql.session import SparkSession\n",
    "\n",
    "spark = SparkSession.builder\\\n",
    "                    .appName(\"Transport for London - Bus station arrivals analysis\")\\\n",
    "                    .getOrCreate()\n",
    "\n",
    "print(f\"This cluster relies on Spark '{spark.version}'\")"
   ]
  },
  {
   "cell_type": "markdown",
   "metadata": {},
   "source": [
    "<a id='2'></a>\n",
    "## 2. Lab"
   ]
  },
  {
   "cell_type": "code",
   "execution_count": 4,
   "metadata": {},
   "outputs": [
    {
     "name": "stderr",
     "output_type": "stream",
     "text": [
      "                                                                                \r"
     ]
    },
    {
     "name": "stdout",
     "output_type": "stream",
     "text": [
      "root\n",
      " |-- $type: string (nullable = true)\n",
      " |-- bearing: string (nullable = true)\n",
      " |-- currentLocation: string (nullable = true)\n",
      " |-- destinationName: string (nullable = true)\n",
      " |-- destinationNaptanId: string (nullable = true)\n",
      " |-- direction: string (nullable = true)\n",
      " |-- expectedArrival: string (nullable = true)\n",
      " |-- id: string (nullable = true)\n",
      " |-- lineId: string (nullable = true)\n",
      " |-- lineName: string (nullable = true)\n",
      " |-- modeName: string (nullable = true)\n",
      " |-- naptanId: string (nullable = true)\n",
      " |-- operationType: long (nullable = true)\n",
      " |-- platformName: string (nullable = true)\n",
      " |-- stationName: string (nullable = true)\n",
      " |-- timeToLive: string (nullable = true)\n",
      " |-- timeToStation: long (nullable = true)\n",
      " |-- timestamp: string (nullable = true)\n",
      " |-- timing: struct (nullable = true)\n",
      " |    |-- $type: string (nullable = true)\n",
      " |    |-- countdownServerAdjustment: string (nullable = true)\n",
      " |    |-- insert: string (nullable = true)\n",
      " |    |-- read: string (nullable = true)\n",
      " |    |-- received: string (nullable = true)\n",
      " |    |-- sent: string (nullable = true)\n",
      " |    |-- source: string (nullable = true)\n",
      " |-- towards: string (nullable = true)\n",
      " |-- vehicleId: string (nullable = true)\n",
      " |-- filename_path: string (nullable = false)\n",
      "\n"
     ]
    }
   ],
   "source": [
    "from pyspark.sql.functions import input_file_name\n",
    "\n",
    "# DataFrame creation\n",
    "BusStationsInfoRawDF = spark.read.json(\"hdfs://localhost:9000/datalake/raw/tfl/bus_stations/2022/*/*/*\")\n",
    "\n",
    "# DataFrame updated with an additional column containing the filename contributing to the data in every row.\n",
    "BusStationsInfoRawDF = BusStationsInfoRawDF.withColumn(\"filename_path\", input_file_name())\n",
    "\n",
    "# The inferred schema can be visualized using the printSchema() method - definitely semi-structured data.\n",
    "BusStationsInfoRawDF.printSchema()"
   ]
  },
  {
   "cell_type": "code",
   "execution_count": 5,
   "metadata": {},
   "outputs": [
    {
     "name": "stdout",
     "output_type": "stream",
     "text": [
      "root\n",
      " |-- filename_path: string (nullable = false)\n",
      "\n"
     ]
    }
   ],
   "source": [
    "BusStationsInfoRawDF.select(\"filename_path\").printSchema()"
   ]
  },
  {
   "cell_type": "code",
   "execution_count": 6,
   "metadata": {
    "scrolled": false
   },
   "outputs": [
    {
     "name": "stderr",
     "output_type": "stream",
     "text": [
      "                                                                                \r"
     ]
    },
    {
     "data": {
      "text/html": [
       "<div>\n",
       "<style scoped>\n",
       "    .dataframe tbody tr th:only-of-type {\n",
       "        vertical-align: middle;\n",
       "    }\n",
       "\n",
       "    .dataframe tbody tr th {\n",
       "        vertical-align: top;\n",
       "    }\n",
       "\n",
       "    .dataframe thead th {\n",
       "        text-align: right;\n",
       "    }\n",
       "</style>\n",
       "<table border=\"1\" class=\"dataframe\">\n",
       "  <thead>\n",
       "    <tr style=\"text-align: right;\">\n",
       "      <th></th>\n",
       "      <th>filename_path</th>\n",
       "    </tr>\n",
       "  </thead>\n",
       "  <tbody>\n",
       "    <tr>\n",
       "      <th>0</th>\n",
       "      <td>hdfs://localhost:9000/datalake/raw/tfl/bus_stations/2022/12/12/13/20221212_1316.json</td>\n",
       "    </tr>\n",
       "    <tr>\n",
       "      <th>1</th>\n",
       "      <td>hdfs://localhost:9000/datalake/raw/tfl/bus_stations/2022/12/12/13/20221212_1313.json</td>\n",
       "    </tr>\n",
       "    <tr>\n",
       "      <th>2</th>\n",
       "      <td>hdfs://localhost:9000/datalake/raw/tfl/bus_stations/2022/12/12/13/20221212_1308.json</td>\n",
       "    </tr>\n",
       "    <tr>\n",
       "      <th>3</th>\n",
       "      <td>hdfs://localhost:9000/datalake/raw/tfl/bus_stations/2022/12/12/13/20221212_1307.json</td>\n",
       "    </tr>\n",
       "    <tr>\n",
       "      <th>4</th>\n",
       "      <td>hdfs://localhost:9000/datalake/raw/tfl/bus_stations/2022/12/10/14/20221210_1436.json</td>\n",
       "    </tr>\n",
       "    <tr>\n",
       "      <th>5</th>\n",
       "      <td>hdfs://localhost:9000/datalake/raw/tfl/bus_stations/2022/12/10/14/20221210_1435.json</td>\n",
       "    </tr>\n",
       "    <tr>\n",
       "      <th>6</th>\n",
       "      <td>hdfs://localhost:9000/datalake/raw/tfl/bus_stations/2022/12/10/13/20221210_1316.json</td>\n",
       "    </tr>\n",
       "    <tr>\n",
       "      <th>7</th>\n",
       "      <td>hdfs://localhost:9000/datalake/raw/tfl/bus_stations/2022/12/10/13/20221210_1315.json</td>\n",
       "    </tr>\n",
       "    <tr>\n",
       "      <th>8</th>\n",
       "      <td>hdfs://localhost:9000/datalake/raw/tfl/bus_stations/2022/12/10/13/20221210_1311.json</td>\n",
       "    </tr>\n",
       "    <tr>\n",
       "      <th>9</th>\n",
       "      <td>hdfs://localhost:9000/datalake/raw/tfl/bus_stations/2022/12/10/13/20221210_1310.json</td>\n",
       "    </tr>\n",
       "    <tr>\n",
       "      <th>10</th>\n",
       "      <td>hdfs://localhost:9000/datalake/raw/tfl/bus_stations/2022/12/10/12/20221210_1241.json</td>\n",
       "    </tr>\n",
       "    <tr>\n",
       "      <th>11</th>\n",
       "      <td>hdfs://localhost:9000/datalake/raw/tfl/bus_stations/2022/12/10/12/20221210_1229.json</td>\n",
       "    </tr>\n",
       "    <tr>\n",
       "      <th>12</th>\n",
       "      <td>hdfs://localhost:9000/datalake/raw/tfl/bus_stations/2022/12/10/12/20221210_1224.json</td>\n",
       "    </tr>\n",
       "    <tr>\n",
       "      <th>13</th>\n",
       "      <td>hdfs://localhost:9000/datalake/raw/tfl/bus_stations/2022/12/10/12/20221210_1223.json</td>\n",
       "    </tr>\n",
       "    <tr>\n",
       "      <th>14</th>\n",
       "      <td>hdfs://localhost:9000/datalake/raw/tfl/bus_stations/2022/12/10/12/20221210_1219.json</td>\n",
       "    </tr>\n",
       "    <tr>\n",
       "      <th>15</th>\n",
       "      <td>hdfs://localhost:9000/datalake/raw/tfl/bus_stations/2022/12/10/12/20221210_1218.json</td>\n",
       "    </tr>\n",
       "    <tr>\n",
       "      <th>16</th>\n",
       "      <td>hdfs://localhost:9000/datalake/raw/tfl/bus_stations/2022/12/10/12/20221210_1213.json</td>\n",
       "    </tr>\n",
       "    <tr>\n",
       "      <th>17</th>\n",
       "      <td>hdfs://localhost:9000/datalake/raw/tfl/bus_stations/2022/12/10/12/20221210_1211.json</td>\n",
       "    </tr>\n",
       "  </tbody>\n",
       "</table>\n",
       "</div>"
      ],
      "text/plain": [
       "                                                                           filename_path\n",
       "0   hdfs://localhost:9000/datalake/raw/tfl/bus_stations/2022/12/12/13/20221212_1316.json\n",
       "1   hdfs://localhost:9000/datalake/raw/tfl/bus_stations/2022/12/12/13/20221212_1313.json\n",
       "2   hdfs://localhost:9000/datalake/raw/tfl/bus_stations/2022/12/12/13/20221212_1308.json\n",
       "3   hdfs://localhost:9000/datalake/raw/tfl/bus_stations/2022/12/12/13/20221212_1307.json\n",
       "4   hdfs://localhost:9000/datalake/raw/tfl/bus_stations/2022/12/10/14/20221210_1436.json\n",
       "5   hdfs://localhost:9000/datalake/raw/tfl/bus_stations/2022/12/10/14/20221210_1435.json\n",
       "6   hdfs://localhost:9000/datalake/raw/tfl/bus_stations/2022/12/10/13/20221210_1316.json\n",
       "7   hdfs://localhost:9000/datalake/raw/tfl/bus_stations/2022/12/10/13/20221210_1315.json\n",
       "8   hdfs://localhost:9000/datalake/raw/tfl/bus_stations/2022/12/10/13/20221210_1311.json\n",
       "9   hdfs://localhost:9000/datalake/raw/tfl/bus_stations/2022/12/10/13/20221210_1310.json\n",
       "10  hdfs://localhost:9000/datalake/raw/tfl/bus_stations/2022/12/10/12/20221210_1241.json\n",
       "11  hdfs://localhost:9000/datalake/raw/tfl/bus_stations/2022/12/10/12/20221210_1229.json\n",
       "12  hdfs://localhost:9000/datalake/raw/tfl/bus_stations/2022/12/10/12/20221210_1224.json\n",
       "13  hdfs://localhost:9000/datalake/raw/tfl/bus_stations/2022/12/10/12/20221210_1223.json\n",
       "14  hdfs://localhost:9000/datalake/raw/tfl/bus_stations/2022/12/10/12/20221210_1219.json\n",
       "15  hdfs://localhost:9000/datalake/raw/tfl/bus_stations/2022/12/10/12/20221210_1218.json\n",
       "16  hdfs://localhost:9000/datalake/raw/tfl/bus_stations/2022/12/10/12/20221210_1213.json\n",
       "17  hdfs://localhost:9000/datalake/raw/tfl/bus_stations/2022/12/10/12/20221210_1211.json"
      ]
     },
     "execution_count": 6,
     "metadata": {},
     "output_type": "execute_result"
    }
   ],
   "source": [
    "from  pyspark.sql.functions import col\n",
    "\n",
    "BusStationsInfoRawDF.select(\"filename_path\")\\\n",
    "                      .distinct()\\\n",
    "                      .orderBy(col(\"filename_path\").desc())\\\n",
    "                      .toPandas()"
   ]
  },
  {
   "cell_type": "markdown",
   "metadata": {},
   "source": [
    "<a id='2.3'></a>\n",
    "### 2.3 Shaping the DataFrame to answer business questions"
   ]
  },
  {
   "cell_type": "code",
   "execution_count": 7,
   "metadata": {},
   "outputs": [
    {
     "name": "stderr",
     "output_type": "stream",
     "text": [
      "                                                                                \r"
     ]
    },
    {
     "data": {
      "text/html": [
       "<div>\n",
       "<style scoped>\n",
       "    .dataframe tbody tr th:only-of-type {\n",
       "        vertical-align: middle;\n",
       "    }\n",
       "\n",
       "    .dataframe tbody tr th {\n",
       "        vertical-align: top;\n",
       "    }\n",
       "\n",
       "    .dataframe thead th {\n",
       "        text-align: right;\n",
       "    }\n",
       "</style>\n",
       "<table border=\"1\" class=\"dataframe\">\n",
       "  <thead>\n",
       "    <tr style=\"text-align: right;\">\n",
       "      <th></th>\n",
       "      <th>id</th>\n",
       "      <th>lineName</th>\n",
       "      <th>stationName</th>\n",
       "      <th>towards</th>\n",
       "      <th>destinationName</th>\n",
       "      <th>direction</th>\n",
       "      <th>timeToStation</th>\n",
       "      <th>timestamp</th>\n",
       "      <th>expectedArrival</th>\n",
       "    </tr>\n",
       "  </thead>\n",
       "  <tbody>\n",
       "    <tr>\n",
       "      <th>0</th>\n",
       "      <td>1050007987</td>\n",
       "      <td>142</td>\n",
       "      <td>Priestley Way</td>\n",
       "      <td>Burnt Oak</td>\n",
       "      <td>Watford Junction</td>\n",
       "      <td>inbound</td>\n",
       "      <td>4</td>\n",
       "      <td>2022-12-10T10:42:01.2039082Z</td>\n",
       "      <td>2022-12-10T10:42:05Z</td>\n",
       "    </tr>\n",
       "    <tr>\n",
       "      <th>1</th>\n",
       "      <td>-1716900</td>\n",
       "      <td>228</td>\n",
       "      <td>Ashmore Road</td>\n",
       "      <td>Ladbroke Grove, Kensal Rise Or Harlesden</td>\n",
       "      <td>Park Royal, Central Middlesex Hospital</td>\n",
       "      <td>inbound</td>\n",
       "      <td>9</td>\n",
       "      <td>2022-12-10T10:42:01.2039082Z</td>\n",
       "      <td>2022-12-10T10:42:10Z</td>\n",
       "    </tr>\n",
       "    <tr>\n",
       "      <th>2</th>\n",
       "      <td>-1989253748</td>\n",
       "      <td>440</td>\n",
       "      <td>Wembley Stadium Station</td>\n",
       "      <td>Kingsbury Green, Brent Pk Or Wembley Pk</td>\n",
       "      <td>Wembley, First Way</td>\n",
       "      <td>outbound</td>\n",
       "      <td>31</td>\n",
       "      <td>2022-12-10T10:42:01.2039082Z</td>\n",
       "      <td>2022-12-10T10:42:32Z</td>\n",
       "    </tr>\n",
       "    <tr>\n",
       "      <th>3</th>\n",
       "      <td>1503980454</td>\n",
       "      <td>341</td>\n",
       "      <td>Sadler's Wells Theatre</td>\n",
       "      <td>Highbury Or Essex Road</td>\n",
       "      <td>Meridian Water, Glover Drive Superstore</td>\n",
       "      <td>inbound</td>\n",
       "      <td>1</td>\n",
       "      <td>2022-12-10T10:42:01.2039082Z</td>\n",
       "      <td>2022-12-10T10:42:02Z</td>\n",
       "    </tr>\n",
       "    <tr>\n",
       "      <th>4</th>\n",
       "      <td>-327390291</td>\n",
       "      <td>105</td>\n",
       "      <td>Newport Road</td>\n",
       "      <td>Cranford, Hayes Or West Drayton</td>\n",
       "      <td>Greenford Station</td>\n",
       "      <td>inbound</td>\n",
       "      <td>196</td>\n",
       "      <td>2022-12-10T10:42:01.2039082Z</td>\n",
       "      <td>2022-12-10T10:45:17Z</td>\n",
       "    </tr>\n",
       "  </tbody>\n",
       "</table>\n",
       "</div>"
      ],
      "text/plain": [
       "            id lineName              stationName  \\\n",
       "0   1050007987      142            Priestley Way   \n",
       "1     -1716900      228             Ashmore Road   \n",
       "2  -1989253748      440  Wembley Stadium Station   \n",
       "3   1503980454      341   Sadler's Wells Theatre   \n",
       "4   -327390291      105             Newport Road   \n",
       "\n",
       "                                    towards  \\\n",
       "0                                 Burnt Oak   \n",
       "1  Ladbroke Grove, Kensal Rise Or Harlesden   \n",
       "2   Kingsbury Green, Brent Pk Or Wembley Pk   \n",
       "3                    Highbury Or Essex Road   \n",
       "4           Cranford, Hayes Or West Drayton   \n",
       "\n",
       "                           destinationName direction  timeToStation  \\\n",
       "0                         Watford Junction   inbound              4   \n",
       "1   Park Royal, Central Middlesex Hospital   inbound              9   \n",
       "2                       Wembley, First Way  outbound             31   \n",
       "3  Meridian Water, Glover Drive Superstore   inbound              1   \n",
       "4                        Greenford Station   inbound            196   \n",
       "\n",
       "                      timestamp       expectedArrival  \n",
       "0  2022-12-10T10:42:01.2039082Z  2022-12-10T10:42:05Z  \n",
       "1  2022-12-10T10:42:01.2039082Z  2022-12-10T10:42:10Z  \n",
       "2  2022-12-10T10:42:01.2039082Z  2022-12-10T10:42:32Z  \n",
       "3  2022-12-10T10:42:01.2039082Z  2022-12-10T10:42:02Z  \n",
       "4  2022-12-10T10:42:01.2039082Z  2022-12-10T10:45:17Z  "
      ]
     },
     "execution_count": 7,
     "metadata": {},
     "output_type": "execute_result"
    }
   ],
   "source": [
    "BusStationsInfoDF = BusStationsInfoRawDF.select(\"id\", \"lineName\",\"stationName\", \"towards\",\"destinationName\", \n",
    "                                                \"direction\", \"timeToStation\", \"timestamp\",\"expectedArrival\")\n",
    "\n",
    "BusStationsInfoDF.toPandas().head()"
   ]
  },
  {
   "cell_type": "markdown",
   "metadata": {},
   "source": [
    "----------------------------------------------"
   ]
  },
  {
   "cell_type": "code",
   "execution_count": 8,
   "metadata": {},
   "outputs": [],
   "source": [
    "import matplotlib.pyplot as plt\n",
    "import seaborn as sns"
   ]
  },
  {
   "cell_type": "markdown",
   "metadata": {},
   "source": [
    "### Average time that it takes to travel from one station to another."
   ]
  },
  {
   "cell_type": "markdown",
   "metadata": {},
   "source": [
    "#### **The groupby() method can display columns we select and compute any aggregation fuction we want for the cells. In this case, the mean time spent by a bus going from one station to another is being displayed here**"
   ]
  },
  {
   "cell_type": "code",
   "execution_count": 9,
   "metadata": {
    "scrolled": false
   },
   "outputs": [
    {
     "name": "stderr",
     "output_type": "stream",
     "text": [
      "                                                                                \r"
     ]
    },
    {
     "name": "stdout",
     "output_type": "stream",
     "text": [
      "+--------+--------------------+--------------------+------------------+\n",
      "|lineName|         stationName|             towards|avg(timeToStation)|\n",
      "+--------+--------------------+--------------------+------------------+\n",
      "|      R8|Hail & Ride Beech...|                null|            1793.0|\n",
      "|     B16|          Upton Road|Sidcup, Welling O...|            1783.0|\n",
      "|     EL1|         Chapel Road|             Barking|            1777.0|\n",
      "|     R10| Halstead / the Cock|     Knockholt Pound|            1775.0|\n",
      "|     355|     Tooting Station|             Mitcham|            1775.0|\n",
      "|     205|Liverpool Street ...|     Aldgate Or Bank|            1771.0|\n",
      "|     111|           New Close|Hounslow Or Twick...|            1771.0|\n",
      "|     302|   Burnt Oak Station|Colindale, Edgwar...|            1770.0|\n",
      "|     326|           Underhill|Potters Bar Or Ar...|            1765.0|\n",
      "|     258|         Tyburn Lane|Kenton, Wembley O...|            1764.0|\n",
      "|     H22|       Treaty Centre| Heston Or Isleworth|            1762.0|\n",
      "|     H19|  Harrow Bus Station|Northwick Park, S...|            1761.0|\n",
      "|     C10|St Thomas' Hospit...|Waterloo Or Eleph...|            1753.0|\n",
      "|     134|      Northwood Road|Muswell Hill Or E...|            1749.0|\n",
      "|      76|Seven Sisters Sta...|     Stoke Newington|            1746.0|\n",
      "|     188|Surrey Quays Station|Southwark Park Ro...|            1745.0|\n",
      "|     109|  Mount Ephraim Road|Clapham Common, B...|            1743.0|\n",
      "|     106|Bethnal Green Sta...|Liverpool Street,...|            1741.0|\n",
      "|     111|       Cranford Lane|Hatton Cross, Hou...|            1730.0|\n",
      "|     R10|Hail & Ride Halst...|                null|            1730.0|\n",
      "+--------+--------------------+--------------------+------------------+\n",
      "only showing top 20 rows\n",
      "\n"
     ]
    },
    {
     "data": {
      "image/png": "[encoded data removed]",
      "text/plain": [
       "<Figure size 432x288 with 1 Axes>"
      ]
     },
     "metadata": {
      "needs_background": "light"
     },
     "output_type": "display_data"
    }
   ],
   "source": [
    "# Grouping the data by Bus line and Station\n",
    "grouped = BusStationsInfoDF.groupby(\"lineName\", \"stationName\", \"towards\")\n",
    "\n",
    "# Calculate the average time it takes to travel from each station to its destination\n",
    "avg_times = grouped.avg(\"timeToStation\")\n",
    "avg_times_pandas = avg_times.toPandas()\n",
    "\n",
    "# show the results\n",
    "avg_times.orderBy(col(\"avg(timeToStation)\").desc()).show()\n",
    "\n",
    "\n",
    "sns.histplot(avg_times_pandas)\n",
    "plt.xlabel(\"Line Number\")\n",
    "plt.ylabel(\"Average time to Station\")\n",
    "plt.show()"
   ]
  },
  {
   "cell_type": "markdown",
   "metadata": {},
   "source": [
    "### Spark + SQL to display the busiest bus routes and stations."
   ]
  },
  {
   "cell_type": "markdown",
   "metadata": {},
   "source": [
    "#### **Spark has built-in compatibility with SQL, which means that we completely can execute SQL queries in Spark and store the result inside of a dataframe.**"
   ]
  },
  {
   "cell_type": "code",
   "execution_count": 10,
   "metadata": {
    "scrolled": false
   },
   "outputs": [
    {
     "name": "stderr",
     "output_type": "stream",
     "text": [
      "                                                                                \r"
     ]
    },
    {
     "name": "stdout",
     "output_type": "stream",
     "text": [
      "+--------+---------+\n",
      "|lineName|num_buses|\n",
      "+--------+---------+\n",
      "|      64|     1395|\n",
      "|     463|     1353|\n",
      "|     465|     1282|\n",
      "|     314|     1167|\n",
      "|     492|     1150|\n",
      "|      S3|     1144|\n",
      "|     107|     1136|\n",
      "|     221|     1114|\n",
      "|      20|     1090|\n",
      "|     216|     1089|\n",
      "|     290|     1081|\n",
      "|      65|     1071|\n",
      "|     370|     1068|\n",
      "|     192|     1064|\n",
      "|      51|     1055|\n",
      "|     174|     1050|\n",
      "|     145|     1044|\n",
      "|      99|     1031|\n",
      "|     352|     1029|\n",
      "|     191|     1025|\n",
      "+--------+---------+\n",
      "only showing top 20 rows\n",
      "\n"
     ]
    },
    {
     "name": "stderr",
     "output_type": "stream",
     "text": [
      "                                                                                \r"
     ]
    },
    {
     "data": {
      "image/png": "[encoded data removed]",
      "text/plain": [
       "<Figure size 432x288 with 1 Axes>"
      ]
     },
     "metadata": {
      "needs_background": "light"
     },
     "output_type": "display_data"
    }
   ],
   "source": [
    "# We created the dataframe as a temporary view, to use it in the SQL statement\n",
    "BusStationsInfoDF.createOrReplaceTempView(\"bus_data\")\n",
    "\n",
    "# Finding the busiest bus routes\n",
    "busiest_routes = spark.sql(\"\"\"\n",
    "  SELECT lineName, COUNT(*) AS num_buses\n",
    "  FROM bus_data\n",
    "  GROUP BY lineName\n",
    "  ORDER BY num_buses DESC\n",
    "\"\"\")\n",
    "busiest_routes.show()\n",
    "\n",
    "\n",
    "busiest_routes_pandas = busiest_routes.toPandas()\n",
    "sns.histplot(busiest_routes_pandas)\n",
    "plt.xlabel(\"Line\")\n",
    "plt.ylabel(\"Number of buses\")\n",
    "plt.show()"
   ]
  },
  {
   "cell_type": "code",
   "execution_count": 11,
   "metadata": {
    "scrolled": false
   },
   "outputs": [
    {
     "name": "stderr",
     "output_type": "stream",
     "text": [
      "                                                                                \r"
     ]
    },
    {
     "name": "stdout",
     "output_type": "stream",
     "text": [
      "+--------------------+---------+\n",
      "|         stationName|num_buses|\n",
      "+--------------------+---------+\n",
      "| Hail & Ride Section|     1469|\n",
      "|           Park Road|      447|\n",
      "|         Church Road|      337|\n",
      "|          The Avenue|      294|\n",
      "|            New Road|      249|\n",
      "|         Park Avenue|      244|\n",
      "|         Forest Road|      234|\n",
      "|       Victoria Road|      225|\n",
      "|Hail & Ride Secti...|      221|\n",
      "|   Beaconsfield Road|      220|\n",
      "|           Long Lane|      214|\n",
      "|       Windmill Road|      212|\n",
      "|Hail & Ride Secti...|      212|\n",
      "|          Green Lane|      206|\n",
      "|         The Fairway|      204|\n",
      "|      St Mary's Road|      196|\n",
      "| North Circular Road|      192|\n",
      "|      Granville Road|      189|\n",
      "|           The Green|      186|\n",
      "|    Nightingale Road|      183|\n",
      "+--------------------+---------+\n",
      "only showing top 20 rows\n",
      "\n",
      "Hail & Ride Section is a specific bus route with a different behaviour. We are going to drop it from the dataframe since it is not a normal station\n"
     ]
    },
    {
     "name": "stderr",
     "output_type": "stream",
     "text": [
      "[Stage 30:======================================>                   (2 + 1) / 3]\r"
     ]
    },
    {
     "name": "stdout",
     "output_type": "stream",
     "text": [
      "+--------------------+---------+\n",
      "|         stationName|num_buses|\n",
      "+--------------------+---------+\n",
      "|           Park Road|      447|\n",
      "|         Church Road|      337|\n",
      "|          The Avenue|      294|\n",
      "|            New Road|      249|\n",
      "|         Park Avenue|      244|\n",
      "|         Forest Road|      234|\n",
      "|       Victoria Road|      225|\n",
      "|   Beaconsfield Road|      220|\n",
      "|           Long Lane|      214|\n",
      "|       Windmill Road|      212|\n",
      "|          Green Lane|      206|\n",
      "|         The Fairway|      204|\n",
      "|      St Mary's Road|      196|\n",
      "| North Circular Road|      192|\n",
      "|      Granville Road|      189|\n",
      "|           The Green|      186|\n",
      "|    Nightingale Road|      183|\n",
      "|        Spencer Road|      176|\n",
      "|Golders Green Sta...|      174|\n",
      "|        Station Road|      171|\n",
      "+--------------------+---------+\n",
      "only showing top 20 rows\n",
      "\n"
     ]
    },
    {
     "name": "stderr",
     "output_type": "stream",
     "text": [
      "\r",
      "                                                                                \r"
     ]
    }
   ],
   "source": [
    "# Find the busiest bus stations\n",
    "busiest_stations = spark.sql(\"\"\"\n",
    "  SELECT stationName, COUNT(*) AS num_buses\n",
    "  FROM bus_data\n",
    "  GROUP BY stationName\n",
    "  ORDER BY num_buses DESC\n",
    "\"\"\")\n",
    "\n",
    "busiest_stations.show()\n",
    "\n",
    "print(\"Hail & Ride Section is a specific bus route with a different behaviour. We are going to drop it from the dataframe since it is not a normal station\")\n",
    "\n",
    "busiest_stations2 = busiest_stations.where(\"stationName not like('Hail & Ride Section%')\")\n",
    "busiest_stations2.show()"
   ]
  },
  {
   "cell_type": "code",
   "execution_count": 12,
   "metadata": {
    "scrolled": true
   },
   "outputs": [
    {
     "name": "stderr",
     "output_type": "stream",
     "text": [
      "                                                                                \r"
     ]
    },
    {
     "data": {
      "text/html": [
       "<div>\n",
       "<style scoped>\n",
       "    .dataframe tbody tr th:only-of-type {\n",
       "        vertical-align: middle;\n",
       "    }\n",
       "\n",
       "    .dataframe tbody tr th {\n",
       "        vertical-align: top;\n",
       "    }\n",
       "\n",
       "    .dataframe thead th {\n",
       "        text-align: right;\n",
       "    }\n",
       "</style>\n",
       "<table border=\"1\" class=\"dataframe\">\n",
       "  <thead>\n",
       "    <tr style=\"text-align: right;\">\n",
       "      <th></th>\n",
       "      <th>stationName</th>\n",
       "      <th>num_buses</th>\n",
       "      <th>binned</th>\n",
       "    </tr>\n",
       "  </thead>\n",
       "  <tbody>\n",
       "    <tr>\n",
       "      <th>0</th>\n",
       "      <td>Park Road</td>\n",
       "      <td>447</td>\n",
       "      <td>100+</td>\n",
       "    </tr>\n",
       "    <tr>\n",
       "      <th>1</th>\n",
       "      <td>Church Road</td>\n",
       "      <td>337</td>\n",
       "      <td>100+</td>\n",
       "    </tr>\n",
       "    <tr>\n",
       "      <th>2</th>\n",
       "      <td>The Avenue</td>\n",
       "      <td>294</td>\n",
       "      <td>100+</td>\n",
       "    </tr>\n",
       "    <tr>\n",
       "      <th>3</th>\n",
       "      <td>New Road</td>\n",
       "      <td>249</td>\n",
       "      <td>100+</td>\n",
       "    </tr>\n",
       "    <tr>\n",
       "      <th>4</th>\n",
       "      <td>Park Avenue</td>\n",
       "      <td>244</td>\n",
       "      <td>100+</td>\n",
       "    </tr>\n",
       "  </tbody>\n",
       "</table>\n",
       "</div>"
      ],
      "text/plain": [
       "   stationName  num_buses binned\n",
       "0    Park Road        447   100+\n",
       "1  Church Road        337   100+\n",
       "2   The Avenue        294   100+\n",
       "3     New Road        249   100+\n",
       "4  Park Avenue        244   100+"
      ]
     },
     "execution_count": 12,
     "metadata": {},
     "output_type": "execute_result"
    }
   ],
   "source": [
    "busiest_stations_pandas = busiest_stations2.toPandas()\n",
    "\n",
    "bin_labels = [\"0-10\", \"11-20\", \"21-30\", \"31-40\", \"41-50\", \"51-100\", \"100+\"]\n",
    "bins = [0, 10, 20, 30, 40, 50, 100, float(\"inf\")]\n",
    "\n",
    "# Use the pd.cut() function to bin the data into the specified intervals\n",
    "busiest_stations_pandas[\"binned\"] = pd.cut(busiest_stations_pandas[\"num_buses\"], bins=bins, labels=bin_labels)\n",
    "\n",
    "\n",
    "busiest_stations_pandas.head()"
   ]
  },
  {
   "cell_type": "code",
   "execution_count": 13,
   "metadata": {},
   "outputs": [
    {
     "data": {
      "text/plain": [
       "11-20     3326\n",
       "31-40     2977\n",
       "21-30     1975\n",
       "51-100     583\n",
       "0-10       542\n",
       "41-50      451\n",
       "100+        91\n",
       "Name: binned, dtype: int64"
      ]
     },
     "metadata": {},
     "output_type": "display_data"
    },
    {
     "data": {
      "text/plain": [
       "<AxesSubplot:>"
      ]
     },
     "execution_count": 13,
     "metadata": {},
     "output_type": "execute_result"
    },
    {
     "data": {
      "image/png": "[encoded data removed]",
      "text/plain": [
       "<Figure size 432x288 with 1 Axes>"
      ]
     },
     "metadata": {
      "needs_background": "light"
     },
     "output_type": "display_data"
    }
   ],
   "source": [
    "bins = busiest_stations_pandas[\"binned\"]\n",
    "\n",
    "bins = bins.value_counts()\n",
    "display(bins)\n",
    "bins.plot(kind='bar')"
   ]
  },
  {
   "cell_type": "markdown",
   "metadata": {},
   "source": [
    "### Most common destinations"
   ]
  },
  {
   "cell_type": "markdown",
   "metadata": {},
   "source": [
    "#### Here, we have grouped all the bus lines and destinations, and calculated all of the different buses which are running that line to x Destination. That way, we obtain the number of buses which are in every different line and go to every destination"
   ]
  },
  {
   "cell_type": "code",
   "execution_count": 14,
   "metadata": {},
   "outputs": [
    {
     "name": "stderr",
     "output_type": "stream",
     "text": [
      "[Stage 41:===================>                                      (1 + 2) / 3]\r"
     ]
    },
    {
     "name": "stdout",
     "output_type": "stream",
     "text": [
      "+--------+-------------------+-----+\n",
      "|lineName|    destinationName|count|\n",
      "+--------+-------------------+-----+\n",
      "|      64|      New Addington|  706|\n",
      "|      64|Thornton Heath Pond|  689|\n",
      "|     463|      Pollards Hill|  684|\n",
      "|     463|     Coulsdon South|  669|\n",
      "|     465|            Dorking|  657|\n",
      "|     465|           Kingston|  625|\n",
      "|     492|          Bluewater|  623|\n",
      "|     314|     Eltham Station|  592|\n",
      "|      S3|            Belmont|  589|\n",
      "|     314|      New Addington|  575|\n",
      "|     216|            Staines|  569|\n",
      "|     352|      Bromley North|  565|\n",
      "|     221|    Edgware Station|  565|\n",
      "|     290|            Staines|  563|\n",
      "|      20|             Debden|  561|\n",
      "|     H28|      Bull's Bridge|  555|\n",
      "|      S3|       Malden Manor|  555|\n",
      "|     107|         New Barnet|  553|\n",
      "|     192|     Tottenham Hale|  552|\n",
      "|     370|           Lakeside|  552|\n",
      "+--------+-------------------+-----+\n",
      "only showing top 20 rows\n",
      "\n"
     ]
    },
    {
     "name": "stderr",
     "output_type": "stream",
     "text": [
      "\r",
      "                                                                                \r"
     ]
    }
   ],
   "source": [
    "most_common_destinations = BusStationsInfoDF.groupby(\"lineName\",\"destinationName\").count()\n",
    "most_common_destinations_ordered = most_common_destinations.orderBy(col(\"count\").desc())\n",
    "\n",
    "\n",
    "most_common_destinations_ordered.show()"
   ]
  },
  {
   "cell_type": "code",
   "execution_count": null,
   "metadata": {},
   "outputs": [],
   "source": []
  }
 ],
 "metadata": {
  "kernelspec": {
   "display_name": "Python 3 (ipykernel)",
   "language": "python",
   "name": "python3"
  },
  "language_info": {
   "codemirror_mode": {
    "name": "ipython",
    "version": 3
   },
   "file_extension": ".py",
   "mimetype": "text/x-python",
   "name": "python",
   "nbconvert_exporter": "python",
   "pygments_lexer": "ipython3",
   "version": "3.9.2"
  }
 },
 "nbformat": 4,
 "nbformat_minor": 4
}
